{
 "cells": [
  {
   "cell_type": "markdown",
   "id": "c89dc98e-ac72-4017-9ade-5632d2ec4ccc",
   "metadata": {},
   "source": [
    "Q1. Which keyword is used to create a function? Create a function to return a list of odd numbers in the\n",
    "range of 1 to 25.\n",
    "\n",
    "A1. The syntax for defining a function in Python is def function_name(arguments):. The def keyword is used to declare a function, followed by the function name and any arguments in parentheses."
   ]
  },
  {
   "cell_type": "code",
   "execution_count": 68,
   "id": "df33cece-aa28-4aa3-8e35-169f5e02a5a3",
   "metadata": {},
   "outputs": [
    {
     "data": {
      "text/plain": [
       "[1, 3, 5, 7, 9, 11, 13, 15, 17, 19, 21, 23, 25]"
      ]
     },
     "execution_count": 68,
     "metadata": {},
     "output_type": "execute_result"
    }
   ],
   "source": [
    "def odd_num(a,b):\n",
    "    x=[]\n",
    "    for i in range(a,b+1):\n",
    "        if i%2!=0:\n",
    "            x.append(i)\n",
    "    return x\n",
    "                        \n",
    "odd_num(1,25)\n",
    "    \n",
    "\n"
   ]
  },
  {
   "cell_type": "markdown",
   "id": "718f0dd0-894b-4670-a068-6cf11921faa9",
   "metadata": {},
   "source": [
    "Q2. Why *args and **kwargs is used in some functions? Create a function each for *args and **kwargs to\n",
    "demonstrate their use.\n",
    "\n",
    "A2. *args allows us to pass a variable number of non-keyword arguments to a Python function. In the function, we should use an asterisk (*) before the parameter name to pass a variable number of arguments.\n",
    "\n",
    "**kwargs allows us to pass a variable number of keyword arguments to a Python function. In the function, we use the double-asterisk (**) before the parameter name to denote this type of argument."
   ]
  },
  {
   "cell_type": "code",
   "execution_count": 14,
   "id": "d44fb70d-dbc7-472a-a365-79c590eb0070",
   "metadata": {},
   "outputs": [
    {
     "name": "stdout",
     "output_type": "stream",
     "text": [
      "5\n",
      "10\n",
      "17\n",
      "26\n",
      "------------------------\n",
      "20\n",
      "30\n",
      "12\n"
     ]
    }
   ],
   "source": [
    "#example for *args\n",
    "def add(*args):\n",
    "    total = 0\n",
    "    for num in args:\n",
    "        total += num\n",
    "    return total\n",
    "\n",
    "print(add(2, 3))\n",
    "print(add(2, 3, 5))\n",
    "print(add(2, 3, 5, 7))\n",
    "print(add(2, 3, 5, 7, 9))\n",
    "print(\"------------------------\")\n",
    "#example for **kwargs\n",
    "def total_fruits(**fruits):\n",
    "    total = 0\n",
    "    for amount in fruits.values():\n",
    "        total += amount\n",
    "    return total\n",
    "\n",
    "print(total_fruits(banana=5, mango=7, apple=8))\n",
    "print(total_fruits(banana=5, mango=7, apple=8, oranges=10))\n",
    "print(total_fruits(banana=5, mango=7))"
   ]
  },
  {
   "cell_type": "code",
   "execution_count": null,
   "id": "5740d2a3-dfff-4184-b30d-bb1db1ce84f9",
   "metadata": {},
   "outputs": [],
   "source": []
  },
  {
   "cell_type": "markdown",
   "id": "c6771c68-90bb-4e91-afba-eefe6211a3dc",
   "metadata": {},
   "source": [
    "Q3. What is an iterator in python? Name the method used to initialise the iterator object and the method\n",
    "used for iteration. Use these methods to print the first five elements of the given list [2, 4, 6, 8, 10, 12, 14, 16,\n",
    "18, 20].\n",
    "\n",
    "A3.Iterators in Python allow for efficient access to elements in a sequence one at a time. This allows for the creation of efficient and memory-saving loops that can process large amounts of data. Examples of sequences in Python include lists, tuples, and dictionaries."
   ]
  },
  {
   "cell_type": "code",
   "execution_count": 5,
   "id": "a4604e12-1df7-4635-9ab4-12f03eeb1a6c",
   "metadata": {},
   "outputs": [],
   "source": [
    "l=[2, 4, 6, 8, 10, 12, 14, 16,18, 20]\n",
    "def extract(a):\n",
    "    for i in l:\n",
    "        return l[:5]"
   ]
  },
  {
   "cell_type": "markdown",
   "id": "3fd39853-bd1b-4091-bbe5-aefc64003515",
   "metadata": {},
   "source": [
    "Q4. What is a generator function in python? Why yield keyword is used? Give an example of a generator\n",
    "function.\n",
    "\n",
    "A4. A generator function in Python is a special type of function that generates a sequence of values. When called, it returns an iterator that can be used to iterate over the values in the sequence. \n",
    "\n",
    "Generator functions use the yield statement to return values one at a time, allowing for efficient and memory-saving processing of large amounts of data."
   ]
  },
  {
   "cell_type": "code",
   "execution_count": null,
   "id": "d791ac11-5154-4ef5-873d-ed3645ef4fbf",
   "metadata": {},
   "outputs": [
    {
     "name": "stdout",
     "output_type": "stream",
     "text": [
      "<generator object my_generator at 0x7f9be43f9850>\n"
     ]
    }
   ],
   "source": [
    "def my_generator(n):\n",
    "    value = 0\n",
    "    while value < n:\n",
    "        yield value     \n",
    "        value= value+1\n",
    "for value in my_generator(10):\n",
    "    print(value)"
   ]
  },
  {
   "cell_type": "markdown",
   "id": "6790685d-351b-419e-ba20-5c20c4bc0006",
   "metadata": {},
   "source": [
    "Q5. Create a generator function for prime numbers less than 1000. Use the next() method to print the\n",
    "first 20 prime numbers."
   ]
  },
  {
   "cell_type": "code",
   "execution_count": 6,
   "id": "6b88c7a0-a801-4fe1-9090-ad2e5565b376",
   "metadata": {},
   "outputs": [
    {
     "data": {
      "text/plain": [
       "[2, 3, 5, 7, 11, 13, 17, 19, 23, 29, 31, 37, 41, 43, 47, 53]"
      ]
     },
     "execution_count": 6,
     "metadata": {},
     "output_type": "execute_result"
    }
   ],
   "source": [
    "def prime(n):\n",
    "    l=[]\n",
    "    prime=True\n",
    "    for i in range(2,n):\n",
    "        for j in range(2,i):\n",
    "            if i%j==0:\n",
    "                prime=False\n",
    "        if prime:\n",
    "            l.append(i)\n",
    "        prime=True\n",
    "    return l\n",
    "prime(1000)\n"
   ]
  },
  {
   "cell_type": "code",
   "execution_count": null,
   "id": "2f510097-7030-439f-ba73-154dbac8b4f9",
   "metadata": {},
   "outputs": [],
   "source": []
  }
 ],
 "metadata": {
  "kernelspec": {
   "display_name": "Python 3 (ipykernel)",
   "language": "python",
   "name": "python3"
  },
  "language_info": {
   "codemirror_mode": {
    "name": "ipython",
    "version": 3
   },
   "file_extension": ".py",
   "mimetype": "text/x-python",
   "name": "python",
   "nbconvert_exporter": "python",
   "pygments_lexer": "ipython3",
   "version": "3.10.8"
  }
 },
 "nbformat": 4,
 "nbformat_minor": 5
}
