{
 "cells": [
  {
   "cell_type": "markdown",
   "id": "e5911aaf-a3b7-4d3e-9b61-bb27f6c11041",
   "metadata": {},
   "source": [
    "### Q1: What is Estimation Statistics? Explain point estimate and interval estimate.\n",
    "\n",
    "A1.Estimation is the process by which the numerical value of unknown population values are inferred from incomplete data, such as a sample.\n",
    "\n",
    "A point estimate is a single value estimate of a parameter. For instance, a sample mean is a point estimate of a population mean. An interval estimate gives you a range of values where the parameter is expected to lie. A confidence interval is the most common type of interval estimate."
   ]
  },
  {
   "cell_type": "markdown",
   "id": "db192b90-7aba-4daf-968d-dd7996907da3",
   "metadata": {},
   "source": [
    "### Q2. Write a Python function to estimate the population mean using a sample mean and standard deviation.\n",
    "\n",
    "A2.In the large-sample case, a 95% confidence interval estimate for the population mean is given by x̄ ± 1.96σ/ √n. When the population standard deviation, σ, is unknown, the sample standard deviation is used to estimate σ in the confidence interval formula.\n"
   ]
  },
  {
   "cell_type": "code",
   "execution_count": 3,
   "id": "9bb9e86a-feff-4dda-9413-a49a714f6f9a",
   "metadata": {},
   "outputs": [
    {
     "name": "stdout",
     "output_type": "stream",
     "text": [
      "the confidence interval for population mean is (96.73333333333333, 103.26666666666667)\n",
      "None\n"
     ]
    }
   ],
   "source": [
    "#A2.\n",
    "def pop(mean,std,n):\n",
    "    p= print(\"the confidence interval for population mean is\",((mean-1.96*std/(n)**0.5),(mean+1.96*std/(n)**0.5)))\n",
    "    return p\n",
    "print(pop(100,10,36))"
   ]
  },
  {
   "cell_type": "markdown",
   "id": "f2d29a17-8ce0-40ae-b59b-305cb89402d7",
   "metadata": {},
   "source": [
    "### Q3: What is Hypothesis testing? Why is it used? State the importance of Hypothesis testing.\n",
    "\n",
    "A3. Hypothesis testing is the process used to evaluate the strength of evidence from the sample and provides a framework for making determinations related to the population, ie, it provides a method for understanding how reliably one can extrapolate observed findings in a sample under study to the larger population from which the sample was drawn."
   ]
  },
  {
   "cell_type": "markdown",
   "id": "646bae69-553d-45e8-8cb4-5cf3c6502bb9",
   "metadata": {},
   "source": [
    "### Q4. Create a hypothesis that states whether the average weight of male college students is greater than the average weight of female college students.\n",
    "\n",
    "A4. \n",
    "     null hypothesis: H0 :average height of male= average height of female\n",
    "\n",
    "H0 : x bar (male) =x bar (female)\n",
    "     \n",
    "alternate hypothesis: average height of male > average height of female\n",
    "    \n",
    "H1 : x bar (male) > x bar (female)"
   ]
  },
  {
   "cell_type": "markdown",
   "id": "53ee5e7f-d9e0-4d17-a392-0385228ef125",
   "metadata": {},
   "source": [
    "### Q5. Write a Python script to conduct a hypothesis test on the difference between two population means, given a sample from each population.\n",
    "\n",
    "A5.H0 => µ1 = µ2 (population mean of dataset1 is equal to dataset2)\n",
    "\n",
    "HA => µ1 ≠µ2 (population mean of dataset1 is different from dataset2)"
   ]
  },
  {
   "cell_type": "code",
   "execution_count": 17,
   "id": "353aeb2b-a671-46ad-81e1-8aead3c8db1d",
   "metadata": {},
   "outputs": [
    {
     "name": "stdout",
     "output_type": "stream",
     "text": [
      "0.6303017944535073\n",
      "perform 2 sample t test\n",
      "accept null hypothesis\n"
     ]
    }
   ],
   "source": [
    "import numpy as np\n",
    "import scipy.stats as stats\n",
    "a=[14, 15, 15, 16, 13, 8, 14, 17, 16, 14, 19, 20, 21, 15, 15, 16, 16, 13, 14, 12]\n",
    "b=[15, 17, 14, 17, 14, 8, 12, 19, 19, 14, 17, 22, 24, 16,13, 16, 13, 18, 15, 13]\n",
    "print( np.var(a) /np.var(b) )\n",
    "q=np.var(a) /np.var(b)\n",
    "if q <4.1:\n",
    "    print(\"perform 2 sample t test\")\n",
    "else:\n",
    "    print(\"change data\")\n",
    "\n",
    "t_stat,p_value=stats.ttest_ind(a,b,equal_var=True)\n",
    "t_stat,p_value\n",
    "\n",
    "if p_value<0.05:\n",
    "    print(\"reject null hypothesis\")\n",
    "else:\n",
    "    print(\"accept null hypothesis\")\n",
    "\n",
    "                    \n",
    "                        "
   ]
  },
  {
   "cell_type": "markdown",
   "id": "c38ee60b-ef90-4515-9fd4-84a3c0cea781",
   "metadata": {},
   "source": [
    "### Q6: What is a null and alternative hypothesis? Give some examples.\n",
    "\n",
    "A7. Null hypothesis represent the claim which is well-established or true justified belief. In addition to well-established beliefs, it represents the default state of the claim in the real world. For example, null hypothesis can be that a 1-KG packet of salt consists of 1 KG of salt. Another example is there is no relationship between pranayama and LDL cholesterol as stated in the previous section. Null hypothesis is typically denoted by H0.\n",
    "\n",
    "Alternate hypothesis represents the new claim that needs to be established. For example, a 1-KG packet of salt consists of 900 gm of salt. Or, there is an impact of pranayama on reducing LDL cholesterol. Alternate hypothesis is denoted by H1."
   ]
  },
  {
   "cell_type": "markdown",
   "id": "49d74a54-1831-4a32-a3bd-3d0029be36b4",
   "metadata": {},
   "source": [
    "### Q7: Write down the steps involved in hypothesis testing.\n",
    "A7.There are 5 main steps in hypothesis testing:\n",
    "\n",
    "1. State your research hypothesis as a null hypothesis and alternate hypothesis (Ho) and (Ha or H1).\n",
    "\n",
    "2. Collect data in a way designed to test the hypothesis.\n",
    "\n",
    "3. Perform an appropriate statistical test.\n",
    "\n",
    "3. Decide whether to reject or fail to reject your null hypothesis.\n",
    "\n",
    "5. Present the findings in your results and discussion section."
   ]
  },
  {
   "cell_type": "markdown",
   "id": "fc8b11b8-1455-4d45-92a8-d72055b2ab6a",
   "metadata": {},
   "source": [
    "### Q8. Define p-value and explain its significance in hypothesis testing.\n",
    "A8. The p value is a number, calculated from a statistical test, that describes how likely you are to have found a particular set of observations if the null hypothesis were true. P values are used in hypothesis testing to help decide whether to reject the null hypothesis."
   ]
  },
  {
   "cell_type": "code",
   "execution_count": null,
   "id": "b7f770a3-1b73-44a4-b932-d45baa6fd875",
   "metadata": {},
   "outputs": [],
   "source": [
    "Q9. Generate a Student's t-distribution plot using Python's matplotlib library, with the degrees of freedom\n",
    "parameter set to 10."
   ]
  },
  {
   "cell_type": "code",
   "execution_count": null,
   "id": "7b54559d-416e-4443-8023-b0e23757c261",
   "metadata": {},
   "outputs": [],
   "source": []
  },
  {
   "cell_type": "markdown",
   "id": "8ff096f0-2f78-4e64-9b75-449a1d572660",
   "metadata": {},
   "source": [
    "### Q10. Write a Python program to calculate the two-sample t-test for independent samples, given two random samples of equal size and a null hypothesis that the population means are equal."
   ]
  },
  {
   "cell_type": "code",
   "execution_count": 18,
   "id": "b372ac47-5d7f-46fb-8624-094dd0c04afc",
   "metadata": {},
   "outputs": [
    {
     "name": "stdout",
     "output_type": "stream",
     "text": [
      "0.6303017944535073\n",
      "perform 2 sample t test\n",
      "accept null hypothesis\n"
     ]
    }
   ],
   "source": [
    "import numpy as np\n",
    "import scipy.stats as stats\n",
    "a=[14, 15, 15, 16, 13, 8, 14, 17, 16, 14, 19, 20, 21, 15, 15, 16, 16, 13, 14, 12]\n",
    "b=[15, 17, 14, 17, 14, 8, 12, 19, 19, 14, 17, 22, 24, 16,13, 16, 13, 18, 15, 13]\n",
    "print( np.var(a) /np.var(b) )\n",
    "q=np.var(a) /np.var(b)\n",
    "if q <4.1:\n",
    "    print(\"perform 2 sample t test\")\n",
    "else:\n",
    "    print(\"change data\")\n",
    "\n",
    "t_stat,p_value=stats.ttest_ind(a,b,equal_var=True)\n",
    "t_stat,p_value\n",
    "\n",
    "if p_value<0.05:\n",
    "    print(\"reject null hypothesis\")\n",
    "else:\n",
    "    print(\"accept null hypothesis\")"
   ]
  },
  {
   "cell_type": "markdown",
   "id": "b3f803cf-049d-4bc1-aa3c-092a02b03861",
   "metadata": {},
   "source": [
    "### Q11: What is Student’s t distribution? When to use the t-Distribution.\n",
    "\n",
    "A11. The t-distribution is used when data are approximately normally distributed, which means the data follow a bell shape but the population variance is unknown. The variance in a t-distribution is estimated based on the degrees of freedom of the data set (total number of observations minus 1)"
   ]
  },
  {
   "cell_type": "markdown",
   "id": "d1e1b2c5-3ecb-416c-8fa2-96a1cd818abd",
   "metadata": {},
   "source": [
    "### Q12: What is t-statistic? State the formula for t-statistic.\n",
    "\n",
    "A12. In statistics, the t-statistic is the ratio of the departure of the estimated value of a parameter from its hypothesized value to its standard error. It is used in hypothesis testing via Student's t-test. The t-statistic is used in a t-test to determine whether to support or reject the null hypothesis.\n",
    "\n",
    "t = (X‾ - μ0) / (s / √n),"
   ]
  },
  {
   "cell_type": "markdown",
   "id": "e032462c-f398-4796-afe2-e13882e7c9ad",
   "metadata": {},
   "source": [
    "### Q13. A coffee shop owner wants to estimate the average daily revenue for their shop. They take a random sample of 50 days and find the sample mean revenue to be 500 with a standard deviation of $50. Estimate the population mean revenue with a 95% confidence interval."
   ]
  },
  {
   "cell_type": "code",
   "execution_count": 19,
   "id": "4fe7b90c-f917-4757-8ec9-feb0b092c0bb",
   "metadata": {},
   "outputs": [
    {
     "name": "stdout",
     "output_type": "stream",
     "text": [
      "the confidence interval for population mean is (486.1407070887437, 513.8592929112564)\n",
      "None\n"
     ]
    }
   ],
   "source": [
    "#A13\n",
    "def pop(mean,std,n):\n",
    "    p= print(\"the confidence interval for population mean is\",((mean-1.96*std/(n)**0.5),(mean+1.96*std/(n)**0.5)))\n",
    "    return p\n",
    "print(pop(500,50,50))"
   ]
  },
  {
   "cell_type": "markdown",
   "id": "dde58432-0e7d-4a5a-bf2c-e8c1197c0cdd",
   "metadata": {},
   "source": [
    "### Q14. A researcher hypothesizes that a new drug will decrease blood pressure by 10 mmHg. They conduct a clinical trial with 100 patients and find that the sample mean decrease in blood pressure is 8 mmHg with a standard deviation of 3 mmHg. Test the hypothesis with a significance level of 0.05.\n",
    "A14.H0 => µ1 = 8 \n",
    "\n",
    "HA => µ1 ≠8 "
   ]
  },
  {
   "cell_type": "code",
   "execution_count": 28,
   "id": "b0916f24-68d9-45a0-b91f-d040ffad0829",
   "metadata": {},
   "outputs": [
    {
     "name": "stdout",
     "output_type": "stream",
     "text": [
      "-6.666666666666667\n",
      "reject null hyp\n"
     ]
    }
   ],
   "source": [
    "def hyp(u,mean,std,n):\n",
    "    t=(mean-u)*n**0.5/std\n",
    "    return t\n",
    "q=(hyp(10,8,3,100))\n",
    "print(q)\n",
    "if q<-1.96 or q>1.96:\n",
    "          print(\"reject null hyp\")\n",
    "else:\n",
    "    print(\"accept null hyp\")\n",
    "\n",
    "    "
   ]
  },
  {
   "cell_type": "markdown",
   "id": "fde01ecc-798e-41a7-8e0b-31f2eed66d69",
   "metadata": {},
   "source": [
    "### Q15. An electronics company produces a certain type of product with a mean weight of 5 pounds and a standard deviation of 0.5 pounds. A random sample of 25 products is taken, and the sample mean weight is found to be 4.8 pounds. Test the hypothesis that the true mean weight of the products is less than 5 pounds with a significance level of 0.01.\n",
    "\n",
    "A14.H0 => µ1 = 5 \n",
    "\n",
    "HA => µ1 <8 \n",
    "\n",
    "sigma=0.5\n",
    "\n",
    "n=25\n",
    "\n",
    "x bar=4.8\n",
    "\n",
    "sig=0.01"
   ]
  },
  {
   "cell_type": "code",
   "execution_count": 32,
   "id": "af9c62ec-2d4c-46f7-9fbb-4b5473cc6932",
   "metadata": {},
   "outputs": [
    {
     "name": "stdout",
     "output_type": "stream",
     "text": [
      "-2.0000000000000018\n",
      "accept null hyp\n"
     ]
    }
   ],
   "source": [
    "def hyp(u,mean,sigma,n):\n",
    "    z=(mean-u)*n**0.5/sigma\n",
    "    return z\n",
    "q=(hyp(5,4.8,0.5,25))\n",
    "print(q)\n",
    "if q<-2.57 or q>2.57:\n",
    "          print(\"reject null hyp\")\n",
    "else:\n",
    "    print(\"accept null hyp\")"
   ]
  },
  {
   "cell_type": "markdown",
   "id": "574a91e4-c4e3-4bbc-b355-0705263faa7a",
   "metadata": {
    "tags": []
   },
   "source": [
    "Q16. Two groups of students are given different study materials to prepare for a test. The first group (n1 =\n",
    "30) has a mean score of 80 with a standard deviation of 10, and the second group (n2 = 40) has a mean\n",
    "score of 75 with a standard deviation of 8. Test the hypothesis that the population means for the two\n",
    "groups are equal with a significance level of 0.01."
   ]
  },
  {
   "cell_type": "markdown",
   "id": "74403f8f-590e-4d5f-9f24-0c021518ccab",
   "metadata": {},
   "source": [
    "### Q17. A marketing company wants to estimate the average number of ads watched by viewers during a TV program. They take a random sample of 50 viewers and find that the sample mean is 4 with a standard deviation of 1.5. Estimate the population mean with a 99% confidence interval."
   ]
  },
  {
   "cell_type": "code",
   "execution_count": 27,
   "id": "f2149ebc-02c2-4d8e-beeb-ada464903c1a",
   "metadata": {},
   "outputs": [
    {
     "name": "stdout",
     "output_type": "stream",
     "text": [
      "the confidence interval for population mean is (3.5842212126623103, 4.41577878733769)\n",
      "None\n"
     ]
    }
   ],
   "source": [
    "#A17\n",
    "def pop(mean,std,n):\n",
    "    p= print(\"the confidence interval for population mean is\",((mean-1.96*std/(n)**0.5),(mean+1.96*std/(n)**0.5)))\n",
    "    return p\n",
    "print(pop(4,1.5,50))"
   ]
  }
 ],
 "metadata": {
  "kernelspec": {
   "display_name": "Python 3 (ipykernel)",
   "language": "python",
   "name": "python3"
  },
  "language_info": {
   "codemirror_mode": {
    "name": "ipython",
    "version": 3
   },
   "file_extension": ".py",
   "mimetype": "text/x-python",
   "name": "python",
   "nbconvert_exporter": "python",
   "pygments_lexer": "ipython3",
   "version": "3.10.8"
  }
 },
 "nbformat": 4,
 "nbformat_minor": 5
}
