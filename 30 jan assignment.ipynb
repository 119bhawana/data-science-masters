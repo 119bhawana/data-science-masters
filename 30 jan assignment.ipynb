{
 "cells": [
  {
   "cell_type": "markdown",
   "id": "a5acd480-2cbd-4778-98aa-334aa2a8a9a6",
   "metadata": {
    "tags": []
   },
   "source": [
    "## question 1\n",
    "\n",
    "write a program to accept percentage and display the grade accordingly"
   ]
  },
  {
   "cell_type": "code",
   "execution_count": 36,
   "id": "32ba91a6-26ab-472b-a4bd-535a59c32f33",
   "metadata": {},
   "outputs": [
    {
     "name": "stdin",
     "output_type": "stream",
     "text": [
      "enter the grade 45\n"
     ]
    },
    {
     "name": "stdout",
     "output_type": "stream",
     "text": [
      "garde D\n"
     ]
    }
   ],
   "source": [
    "a=float(input(\"enter the grade\"))\n",
    "if a>90:\n",
    "    print(\"grade A\")\n",
    "if a>80 and a<=90:\n",
    "    print(\"grade B\")\n",
    "if a>=60 and a<=80:\n",
    "    print(\"grade C\")\n",
    "if a<60:\n",
    "    print(\"garde D\")\n",
    "    \n"
   ]
  },
  {
   "cell_type": "markdown",
   "id": "d10fa608-008c-4359-a599-27a265b00557",
   "metadata": {},
   "source": [
    "## question 2\n",
    "\n",
    "write a program to accept the price of the bike and display the road tax to be payed according the following criteria\n"
   ]
  },
  {
   "cell_type": "code",
   "execution_count": 37,
   "id": "8ae387af-f0bb-4405-8a2e-2fa7307468c4",
   "metadata": {},
   "outputs": [
    {
     "name": "stdin",
     "output_type": "stream",
     "text": [
      "enter the price of bike 1325455654\n"
     ]
    },
    {
     "name": "stdout",
     "output_type": "stream",
     "text": [
      "tax for this bike is 198818348.1\n"
     ]
    }
   ],
   "source": [
    "p=float(input(\"enter the price of bike\"))\n",
    "if p>100000:\n",
    "    print(\"tax for this bike is {}\".format(0.15*p))\n",
    "if p>50000 and p<=100000:\n",
    "    print(\"tax for this bike is {}\".format(0.1*p))\n",
    "if p<=50000:\n",
    "    print(\"tax for this bike is {}\".format(0.05*p))\n",
    "    "
   ]
  },
  {
   "cell_type": "markdown",
   "id": "83b30d9b-716a-491d-ac81-daed6783dc1e",
   "metadata": {},
   "source": [
    "## question 3\n",
    "\n",
    "accpet any city from the user and print its monument"
   ]
  },
  {
   "cell_type": "code",
   "execution_count": 38,
   "id": "934c31fd-0c02-431f-8650-c924c2c24d92",
   "metadata": {},
   "outputs": [
    {
     "name": "stdin",
     "output_type": "stream",
     "text": [
      "enter the name of the city delhi\n"
     ]
    },
    {
     "name": "stdout",
     "output_type": "stream",
     "text": [
      "the monument is red fort\n"
     ]
    }
   ],
   "source": [
    "city =str(input(\"enter the name of the city\"))\n",
    "if city==\"delhi\":\n",
    "    print(\"the monument is red fort\")\n",
    "if city==\"agra\":\n",
    "    print(\" the monument is taj mahal\")\n",
    "if city==\"jaipur\":\n",
    "    print(\"the monument is jal mahal\")\n",
    "    "
   ]
  },
  {
   "cell_type": "code",
   "execution_count": 39,
   "id": "e3148bf1-d5d9-4736-a493-935d9aa12c39",
   "metadata": {},
   "outputs": [
    {
     "name": "stdin",
     "output_type": "stream",
     "text": [
      " asa\n"
     ]
    },
    {
     "name": "stdout",
     "output_type": "stream",
     "text": [
      " monument of this city is not registerd in our data base , \n",
      " try another city\n"
     ]
    }
   ],
   "source": [
    "f=str(input())\n",
    "c={\"delhi\":\"red fort\" ,\"agra\":\"taj mahal\",\"jaipur\":\"jal mahal\"}\n",
    "for i in c:\n",
    "    if f==i:\n",
    "        print(\"th name of the monument of city\",i,\"is {}\".format(c[i]))\n",
    "        break\n",
    "else: \n",
    "    print(\" monument of this city is not registerd in our data base , \\n try another city\")"
   ]
  },
  {
   "cell_type": "markdown",
   "id": "4b2af25c-971e-4da3-93a4-6148a69c63bc",
   "metadata": {},
   "source": [
    "## question 4\n",
    "\n",
    "check how many times a no can be divided by 3 before it is less than equal to 10"
   ]
  },
  {
   "cell_type": "code",
   "execution_count": 59,
   "id": "f38f35ec-44fe-438b-92a6-341ac0e04e3c",
   "metadata": {},
   "outputs": [
    {
     "name": "stdin",
     "output_type": "stream",
     "text": [
      "enter any number of your choice 729\n"
     ]
    },
    {
     "name": "stdout",
     "output_type": "stream",
     "text": [
      "4\n"
     ]
    }
   ],
   "source": [
    "n=int(input(\"enter any number of your choice\"))\n",
    "count=0\n",
    "while n>10:\n",
    "    count=count+1\n",
    "    n=n/3  \n",
    "print(count)\n"
   ]
  },
  {
   "cell_type": "markdown",
   "id": "6df9241e-9ac3-4728-96aa-e193b0e26e1d",
   "metadata": {},
   "source": [
    "## question 5\n",
    "\n",
    "why and when to use while loop in python\n"
   ]
  },
  {
   "cell_type": "markdown",
   "id": "cc29d9b1-c842-4b10-bfdb-9f430f1ddb60",
   "metadata": {},
   "source": [
    "### answer 5 \n",
    "\n",
    "\n",
    "Python while loop is used to run a block code until a certain condition is met. Here, A while loop evaluates the condition. If the condition evaluates to True , the code inside the while loop is executed.\n",
    "\n",
    "For example, if we want to ask a user for a number between 1 and 10, we don't know how many times the user may enter a larger number, so we keep asking \"while the number is not between 1 and 10\"."
   ]
  },
  {
   "cell_type": "markdown",
   "id": "711b8d89-362a-4c07-8d54-7074a5e7dd7e",
   "metadata": {},
   "source": [
    "## question 6\n",
    "\n",
    "use nested while loop to print 3 patterns"
   ]
  },
  {
   "cell_type": "code",
   "execution_count": 8,
   "id": "e5cb8cf9-08a4-47f9-9bc6-83270e2784ee",
   "metadata": {},
   "outputs": [
    {
     "name": "stdin",
     "output_type": "stream",
     "text": [
      "Enter number of rows :  7\n"
     ]
    },
    {
     "name": "stdout",
     "output_type": "stream",
     "text": [
      "*\n",
      "**\n",
      "***\n",
      "****\n",
      "*****\n",
      "******\n",
      "*******\n"
     ]
    },
    {
     "name": "stdin",
     "output_type": "stream",
     "text": [
      "Enter number of rows :  7\n"
     ]
    },
    {
     "name": "stdout",
     "output_type": "stream",
     "text": [
      "*******\n",
      "******\n",
      "*****\n",
      "****\n",
      "***\n",
      "**\n",
      "*\n"
     ]
    },
    {
     "name": "stdin",
     "output_type": "stream",
     "text": [
      "Enter number of rows :  7\n"
     ]
    },
    {
     "name": "stdout",
     "output_type": "stream",
     "text": [
      "  1 \n",
      "  2   3 \n",
      "  4   5   6 \n",
      "  7   8   9  10 \n",
      " 11  12  13  14  15 \n",
      " 16  17  18  19  20  21 \n",
      " 22  23  24  25  26  27  28 \n"
     ]
    }
   ],
   "source": [
    "#pattern no-1\n",
    "m = int(input('Enter number of rows : '))\n",
    "row=1\n",
    "while row<=m:\n",
    "    column=1\n",
    "    while column<=row:\n",
    "        print(\"*\", end=\"\")\n",
    "        column=column+1\n",
    "    print()\n",
    "    row=row+1\n",
    "  \n",
    "\n",
    "#pattern no 2\n",
    "\n",
    "n = int(input('Enter number of rows : '))\n",
    " \n",
    "i = 1\n",
    "while i <= n :\n",
    "    j = n\n",
    "    while j >= i:\n",
    "        print(\"*\", end = \"\")\n",
    "        j -= 1\n",
    "    print()\n",
    "    i += 1\n",
    "    \n",
    "    \n",
    "    \n",
    "r = int(input('Enter number of rows : '))\n",
    " \n",
    "k = 1\n",
    "i = 1\n",
    "while i <= r :\n",
    "    j = 1\n",
    "    while j <= i:\n",
    "        print(\"{:3d}\".format(k), end = \" \")\n",
    "        j += 1\n",
    "        k += 1\n",
    "    print()\n",
    "    i += 1"
   ]
  },
  {
   "cell_type": "markdown",
   "id": "a5f55802-50c4-4a10-b3cb-0f579c9bfe60",
   "metadata": {},
   "source": [
    "## question 7\n",
    "\n",
    "reverse a while loop to display numbers from 10 to 1"
   ]
  },
  {
   "cell_type": "code",
   "execution_count": 35,
   "id": "ea3099a7-f4b0-4cd4-b02a-9a2132410da1",
   "metadata": {},
   "outputs": [
    {
     "name": "stdout",
     "output_type": "stream",
     "text": [
      "10  9  8  7  6  5  4  3  2  1  "
     ]
    }
   ],
   "source": [
    "num=10\n",
    "while num>0:\n",
    "    print(num,end=\"  \")\n",
    "    num=num-1"
   ]
  },
  {
   "cell_type": "code",
   "execution_count": null,
   "id": "41c63d2e-83f1-46b9-9e7a-2dc284886956",
   "metadata": {},
   "outputs": [],
   "source": []
  },
  {
   "cell_type": "code",
   "execution_count": null,
   "id": "343d72e5-4b8b-4737-b150-e9d2f0f849e3",
   "metadata": {},
   "outputs": [],
   "source": []
  }
 ],
 "metadata": {
  "kernelspec": {
   "display_name": "Python 3 (ipykernel)",
   "language": "python",
   "name": "python3"
  },
  "language_info": {
   "codemirror_mode": {
    "name": "ipython",
    "version": 3
   },
   "file_extension": ".py",
   "mimetype": "text/x-python",
   "name": "python",
   "nbconvert_exporter": "python",
   "pygments_lexer": "ipython3",
   "version": "3.10.8"
  }
 },
 "nbformat": 4,
 "nbformat_minor": 5
}
